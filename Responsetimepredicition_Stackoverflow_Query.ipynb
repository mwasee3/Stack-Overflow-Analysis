{
 "cells": [
  {
   "cell_type": "code",
   "execution_count": null,
   "metadata": {
    "id": "cLaf-JalQZFO"
   },
   "outputs": [],
   "source": [
    "!pip install --upgrade google-cloud-bigquery\n",
    "!pip install google-cloud\n",
    "!pip install google-cloud-storage\n",
    "!pip install google-cloud-bigquery[pandas]\n",
    "!pip install google-cloud-bigquery-storage\n",
    "!pip install db-dtypes"
   ]
  },
  {
   "cell_type": "code",
   "execution_count": 114,
   "metadata": {
    "colab": {
     "base_uri": "https://localhost:8080/"
    },
    "id": "FxlWXbV0Aie5",
    "outputId": "6276be89-8485-4f4e-a9dc-a9020635484a"
   },
   "outputs": [
    {
     "name": "stdout",
     "output_type": "stream",
     "text": [
      "The google.cloud.bigquery extension is already loaded. To reload it, use:\n",
      "  %reload_ext google.cloud.bigquery\n"
     ]
    }
   ],
   "source": [
    "from google.cloud import storage\n",
    "import seaborn as sns\n",
    "import matplotlib.pyplot as plt\n",
    "import nltk\n",
    "from nltk.corpus import stopwords\n",
    "from sklearn.feature_extraction.text import TfidfVectorizer\n",
    "from sklearn.decomposition import PCA\n",
    "import pandas as pd\n",
    "import numpy as np\n",
    "import os\n",
    "\n",
    "%load_ext google.cloud.bigquery"
   ]
  },
  {
   "cell_type": "code",
   "execution_count": 115,
   "metadata": {
    "id": "bCUaWR5-RJeK"
   },
   "outputs": [],
   "source": [
    "os.environ['GOOGLE_APPLICATION_CREDENTIALS'] = 'bigquery_json_key.json'"
   ]
  },
  {
   "cell_type": "code",
   "execution_count": 116,
   "metadata": {
    "colab": {
     "base_uri": "https://localhost:8080/"
    },
    "id": "04QAC985Tbdq",
    "outputId": "e04ac1cd-bf50-43e9-9621-f90ab2800984"
   },
   "outputs": [
    {
     "name": "stderr",
     "output_type": "stream",
     "text": [
      "[nltk_data] Downloading package stopwords to\n",
      "[nltk_data]     C:\\Users\\agupt69\\AppData\\Roaming\\nltk_data...\n",
      "[nltk_data]   Package stopwords is already up-to-date!\n",
      "[nltk_data] Downloading package punkt to\n",
      "[nltk_data]     C:\\Users\\agupt69\\AppData\\Roaming\\nltk_data...\n",
      "[nltk_data]   Package punkt is already up-to-date!\n",
      "[nltk_data] Downloading package averaged_perceptron_tagger to\n",
      "[nltk_data]     C:\\Users\\agupt69\\AppData\\Roaming\\nltk_data...\n",
      "[nltk_data]   Package averaged_perceptron_tagger is already up-to-\n",
      "[nltk_data]       date!\n"
     ]
    },
    {
     "data": {
      "text/plain": [
       "True"
      ]
     },
     "execution_count": 116,
     "metadata": {},
     "output_type": "execute_result"
    }
   ],
   "source": [
    "nltk.download('stopwords')\n",
    "nltk.download('punkt')\n",
    "nltk.download('averaged_perceptron_tagger')"
   ]
  },
  {
   "cell_type": "code",
   "execution_count": 117,
   "metadata": {
    "id": "rr9lDwGTDVg5"
   },
   "outputs": [],
   "source": [
    "def list_buckets():\n",
    "    storage_client = storage.Client()\n",
    "    # Make an authenticated API request\n",
    "    buckets = list(storage_client.list_buckets())\n",
    "    print(buckets)"
   ]
  },
  {
   "cell_type": "code",
   "execution_count": 118,
   "metadata": {
    "colab": {
     "base_uri": "https://localhost:8080/"
    },
    "id": "2dP_dpFyDWke",
    "outputId": "6c09228e-becc-43cb-fe44-ec348b5af303"
   },
   "outputs": [
    {
     "name": "stdout",
     "output_type": "stream",
     "text": [
      "[<Bucket: edu-uic-cs418-664474845-homework4>]\n"
     ]
    }
   ],
   "source": [
    "list_buckets()"
   ]
  },
  {
   "cell_type": "code",
   "execution_count": 119,
   "metadata": {
    "colab": {
     "base_uri": "https://localhost:8080/"
    },
    "id": "AJNk-j9hpWpn",
    "outputId": "c4f9bdf5-5410-41a7-8239-4a0fa10263d9"
   },
   "outputs": [
    {
     "name": "stderr",
     "output_type": "stream",
     "text": [
      "Query complete after 0.01s: 100%|██████████| 1/1 [00:00<00:00, 1997.29query/s]\n",
      "Downloading: 100%|██████████| 49733/49733 [00:01<00:00, 32327.52rows/s]\n"
     ]
    }
   ],
   "source": [
    "%%bigquery df\n",
    "\n",
    "WITH responsetime_features AS (\n",
    "  SELECT *\n",
    "    , GREATEST(1, TIMESTAMP_DIFF(answers.first, creation_date, minute)) response_time\n",
    "  FROM (\n",
    "    SELECT id, creation_date, title\n",
    "      , (SELECT AS STRUCT MIN(creation_date) first, COUNT(*) c\n",
    "         FROM `bigquery-public-data.stackoverflow.posts_answers` \n",
    "         WHERE a.id=parent_id\n",
    "      ) answers\n",
    "      , SPLIT(tags, '|') tags\n",
    "    FROM `bigquery-public-data.stackoverflow.posts_questions` a\n",
    "    WHERE EXTRACT(year FROM creation_date) >= 2020 and EXTRACT(year FROM creation_date) <= 2021\n",
    "  )\n",
    ")\n",
    "\n",
    "\n",
    "SELECT COUNT(*) questions, tag\n",
    "  , ROUND(EXP(AVG(LOG(response_time))), 2) avg_response_time_min\n",
    "  , FORMAT('%.2f', 100*COUNT(response_time)/COUNT(*)) answered_percent\n",
    "FROM responsetime_features, UNNEST(tags) tag\n",
    "GROUP BY tag\n",
    "ORDER BY questions DESC"
   ]
  },
  {
   "cell_type": "code",
   "execution_count": 120,
   "metadata": {},
   "outputs": [],
   "source": [
    "df[\"answered_percent\"] = df[\"answered_percent\"].astype(np.float32)"
   ]
  },
  {
   "cell_type": "code",
   "execution_count": 121,
   "metadata": {
    "colab": {
     "base_uri": "https://localhost:8080/",
     "height": 423
    },
    "id": "KsaLxfMFpq2Q",
    "outputId": "302ba719-6a58-4cab-a452-494d96486cc8"
   },
   "outputs": [
    {
     "data": {
      "text/html": [
       "<div>\n",
       "<style scoped>\n",
       "    .dataframe tbody tr th:only-of-type {\n",
       "        vertical-align: middle;\n",
       "    }\n",
       "\n",
       "    .dataframe tbody tr th {\n",
       "        vertical-align: top;\n",
       "    }\n",
       "\n",
       "    .dataframe thead th {\n",
       "        text-align: right;\n",
       "    }\n",
       "</style>\n",
       "<table border=\"1\" class=\"dataframe\">\n",
       "  <thead>\n",
       "    <tr style=\"text-align: right;\">\n",
       "      <th></th>\n",
       "      <th>questions</th>\n",
       "      <th>tag</th>\n",
       "      <th>avg_response_time_min</th>\n",
       "      <th>answered_percent</th>\n",
       "    </tr>\n",
       "  </thead>\n",
       "  <tbody>\n",
       "    <tr>\n",
       "      <th>0</th>\n",
       "      <td>572193</td>\n",
       "      <td>python</td>\n",
       "      <td>57.24</td>\n",
       "      <td>77.349998</td>\n",
       "    </tr>\n",
       "    <tr>\n",
       "      <th>1</th>\n",
       "      <td>419231</td>\n",
       "      <td>javascript</td>\n",
       "      <td>49.36</td>\n",
       "      <td>76.820000</td>\n",
       "    </tr>\n",
       "    <tr>\n",
       "      <th>2</th>\n",
       "      <td>222717</td>\n",
       "      <td>java</td>\n",
       "      <td>94.49</td>\n",
       "      <td>73.230003</td>\n",
       "    </tr>\n",
       "    <tr>\n",
       "      <th>3</th>\n",
       "      <td>181032</td>\n",
       "      <td>reactjs</td>\n",
       "      <td>63.62</td>\n",
       "      <td>75.260002</td>\n",
       "    </tr>\n",
       "    <tr>\n",
       "      <th>4</th>\n",
       "      <td>162330</td>\n",
       "      <td>c#</td>\n",
       "      <td>109.70</td>\n",
       "      <td>74.449997</td>\n",
       "    </tr>\n",
       "    <tr>\n",
       "      <th>...</th>\n",
       "      <td>...</td>\n",
       "      <td>...</td>\n",
       "      <td>...</td>\n",
       "      <td>...</td>\n",
       "    </tr>\n",
       "    <tr>\n",
       "      <th>49728</th>\n",
       "      <td>1</td>\n",
       "      <td>skpaymentqueue</td>\n",
       "      <td>NaN</td>\n",
       "      <td>0.000000</td>\n",
       "    </tr>\n",
       "    <tr>\n",
       "      <th>49729</th>\n",
       "      <td>1</td>\n",
       "      <td>brep</td>\n",
       "      <td>NaN</td>\n",
       "      <td>0.000000</td>\n",
       "    </tr>\n",
       "    <tr>\n",
       "      <th>49730</th>\n",
       "      <td>1</td>\n",
       "      <td>ng-maxlength</td>\n",
       "      <td>2276.00</td>\n",
       "      <td>100.000000</td>\n",
       "    </tr>\n",
       "    <tr>\n",
       "      <th>49731</th>\n",
       "      <td>1</td>\n",
       "      <td>ammy</td>\n",
       "      <td>NaN</td>\n",
       "      <td>0.000000</td>\n",
       "    </tr>\n",
       "    <tr>\n",
       "      <th>49732</th>\n",
       "      <td>1</td>\n",
       "      <td>css-contain</td>\n",
       "      <td>NaN</td>\n",
       "      <td>0.000000</td>\n",
       "    </tr>\n",
       "  </tbody>\n",
       "</table>\n",
       "<p>49733 rows × 4 columns</p>\n",
       "</div>"
      ],
      "text/plain": [
       "       questions             tag  avg_response_time_min  answered_percent\n",
       "0         572193          python                  57.24         77.349998\n",
       "1         419231      javascript                  49.36         76.820000\n",
       "2         222717            java                  94.49         73.230003\n",
       "3         181032         reactjs                  63.62         75.260002\n",
       "4         162330              c#                 109.70         74.449997\n",
       "...          ...             ...                    ...               ...\n",
       "49728          1  skpaymentqueue                    NaN          0.000000\n",
       "49729          1            brep                    NaN          0.000000\n",
       "49730          1    ng-maxlength                2276.00        100.000000\n",
       "49731          1            ammy                    NaN          0.000000\n",
       "49732          1     css-contain                    NaN          0.000000\n",
       "\n",
       "[49733 rows x 4 columns]"
      ]
     },
     "execution_count": 121,
     "metadata": {},
     "output_type": "execute_result"
    }
   ],
   "source": [
    "df"
   ]
  },
  {
   "cell_type": "code",
   "execution_count": 122,
   "metadata": {},
   "outputs": [],
   "source": [
    "df.to_csv(\"Responsetime_prediction_features.csv\")"
   ]
  },
  {
   "cell_type": "code",
   "execution_count": 123,
   "metadata": {
    "colab": {
     "base_uri": "https://localhost:8080/",
     "height": 446
    },
    "id": "_e37fa5xqRT4",
    "outputId": "d00ac875-056a-4793-8c32-25f68d6fcb59"
   },
   "outputs": [
    {
     "data": {
      "text/plain": [
       "<BarContainer object of 10 artists>"
      ]
     },
     "execution_count": 123,
     "metadata": {},
     "output_type": "execute_result"
    },
    {
     "data": {
      "image/png": "[encoded data removed]",
      "text/plain": [
       "<Figure size 864x504 with 1 Axes>"
      ]
     },
     "metadata": {
      "needs_background": "light"
     },
     "output_type": "display_data"
    }
   ],
   "source": [
    "plot_df2 = df2.iloc[:10, : ].sort_values(\"chance_of_answer\")\n",
    "plt.figure(figsize=(12, 7))\n",
    "plt.bar( plot_df2[\"tag\"],plot_df2[\"chance_of_answer\"])"
   ]
  }
 ],
 "metadata": {
  "colab": {
   "collapsed_sections": [],
   "name": "Responsetimepredicition_Stackoverflow.ipynb",
   "provenance": []
  },
  "kernelspec": {
   "display_name": "Python 3 (ipykernel)",
   "language": "python",
   "name": "python3"
  },
  "language_info": {
   "codemirror_mode": {
    "name": "ipython",
    "version": 3
   },
   "file_extension": ".py",
   "mimetype": "text/x-python",
   "name": "python",
   "nbconvert_exporter": "python",
   "pygments_lexer": "ipython3",
   "version": "3.9.7"
  }
 },
 "nbformat": 4,
 "nbformat_minor": 1
}
